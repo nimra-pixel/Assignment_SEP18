{
 "cells": [
  {
   "cell_type": "markdown",
   "id": "a6f80c04-986a-4b4b-b5d0-7be45d761bfa",
   "metadata": {},
   "source": [
    "Calculators using Functions\n"
   ]
  },
  {
   "cell_type": "code",
   "execution_count": null,
   "id": "8de7c445-8f88-4bc7-956e-ae5eba9adf24",
   "metadata": {},
   "outputs": [
    {
     "name": "stdout",
     "output_type": "stream",
     "text": [
      "Select Options\n",
      "1: Addition\n",
      "2, Subtraction\n",
      "3, Multiplication\n",
      "4, Division\n",
      "5, Modulus\n"
     ]
    },
    {
     "name": "stdin",
     "output_type": "stream",
     "text": [
      "enter option (1/2/3/4/5 1\n",
      "enter the number 1: 20\n"
     ]
    }
   ],
   "source": [
    "def add(a,b):\n",
    "    return a+b\n",
    "def subtract(a,b):\n",
    "    return a-b\n",
    "def multiply(a,b):\n",
    "    return a*b\n",
    "def divide(a,b):\n",
    "    if b==0:\n",
    "        return \"Error: division with 0 is no allowed\"\n",
    "    return a/b\n",
    "def modulus (a,b):\n",
    "    return a%b\n",
    "\n",
    "def calculator():\n",
    "    print(\"Select Options\")\n",
    "    print(\"1: Addition\")\n",
    "    print(\"2, Subtraction\")\n",
    "    print(\"3, Multiplication\")\n",
    "    print(\"4, Division\")\n",
    "    print(\"5, Modulus\")\n",
    "    choice = input(\"enter option (1/2/3/4/5):\")\n",
    "    if choice in ['1','2','3','4','5']:\n",
    "        num1 = float(input(\"enter the number 1:\"))\n",
    "        num2 = float(input(\"enter the number 2:\"))\n",
    "\n",
    "        if num == '1':\n",
    "            print(f\"Result: {add(num1,num2)}\")\n",
    "        elif num == '2':\n",
    "            print(f\"Result: {subtract(num1,num2)}\")\n",
    "        elif num == '3':\n",
    "            print(f\"Result: {multiply(num1,num2)}\")\n",
    "        elif num == '4':\n",
    "            print(f\"Result: {divide(num1,num2)}\")\n",
    "        elif num == '5':\n",
    "            print(f\"Result: {modulus(num1,num2)}\")\n",
    "    else: \n",
    "        print(\"wrong no\")\n",
    "\n",
    "\n",
    "calculator()\n",
    "        \n",
    "        "
   ]
  },
  {
   "cell_type": "code",
   "execution_count": null,
   "id": "c9dfc007-2c4e-4164-b3f2-883ad47ac03e",
   "metadata": {},
   "outputs": [],
   "source": []
  }
 ],
 "metadata": {
  "kernelspec": {
   "display_name": "Python 3 (ipykernel)",
   "language": "python",
   "name": "python3"
  },
  "language_info": {
   "codemirror_mode": {
    "name": "ipython",
    "version": 3
   },
   "file_extension": ".py",
   "mimetype": "text/x-python",
   "name": "python",
   "nbconvert_exporter": "python",
   "pygments_lexer": "ipython3",
   "version": "3.12.3"
  }
 },
 "nbformat": 4,
 "nbformat_minor": 5
}
